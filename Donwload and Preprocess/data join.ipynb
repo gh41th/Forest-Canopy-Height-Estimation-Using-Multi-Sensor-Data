{
  "nbformat": 4,
  "nbformat_minor": 0,
  "metadata": {
    "colab": {
      "provenance": []
    },
    "kernelspec": {
      "name": "python3",
      "display_name": "Python 3"
    },
    "language_info": {
      "name": "python"
    }
  },
  "cells": [
    {
      "cell_type": "code",
      "source": [
        "# Mount Google Drive to access files stored in Google Drive\n",
        "from google.colab import drive\n",
        "drive.mount('/content/drive')\n"
      ],
      "metadata": {
        "colab": {
          "base_uri": "https://localhost:8080/"
        },
        "id": "wiiaB8XM3fdV",
        "outputId": "21776ad2-5f81-472d-afff-6f5c1662fb39"
      },
      "execution_count": 3,
      "outputs": [
        {
          "output_type": "stream",
          "name": "stdout",
          "text": [
            "Mounted at /content/drive\n"
          ]
        }
      ]
    },
    {
      "cell_type": "code",
      "source": [
        "# Import necessary libraries\n",
        "import pandas as pd\n",
        "import glob"
      ],
      "metadata": {
        "id": "-uxkgRM23mrw"
      },
      "execution_count": 4,
      "outputs": []
    },
    {
      "cell_type": "code",
      "source": [
        "#Load all the Sentinel-2 batch files (the batch files for Sentinel-2 data) from the specified folder into a list\n",
        "S2_list = glob.glob('/content/drive/MyDrive/Data/Sentinel-2_batch_*.csv')\n",
        "# Concatenate all the Sentinel-2 CSV files into a single dataframe\n",
        "S2 = pd.concat([pd.read_csv(csv) for csv in S2_list])\n",
        "# Drop the 'system:index' column from the Sentinel-2 dataframe as it's not needed for merging\n",
        "S2 = S2.drop('system:index', axis=1)"
      ],
      "metadata": {
        "id": "hvqTebf86WJM"
      },
      "execution_count": null,
      "outputs": []
    },
    {
      "cell_type": "code",
      "source": [
        "# Load the Sentinel-1 data from the specified path\n",
        "S1 = pd.read_csv('/content/drive/MyDrive/Data/Sentinel-1.csv')\n",
        "# Drop the 'system:index' column from the Sentinel-1 dataframe\n",
        "S1 = S1.drop('system:index', axis=1)"
      ],
      "metadata": {
        "id": "53qlEaBd6Zof"
      },
      "execution_count": null,
      "outputs": []
    },
    {
      "cell_type": "code",
      "source": [
        "# Load the 3DEP (Digital Elevation Model) data from the specified path\n",
        "DEM = pd.read_csv('/content/drive/MyDrive/Data/3DEP.csv')\n",
        "# Drop the 'system:index' column from the 3DEP dataframe\n",
        "DEM = DEM.drop('system:index', axis=1)"
      ],
      "metadata": {
        "id": "Js8zxz_06cYF"
      },
      "execution_count": null,
      "outputs": []
    },
    {
      "cell_type": "code",
      "source": [
        "# Merge the Sentinel-1 and Sentinel-2 dataframes on common columns ('.geo', 'date', 'rh95')\n",
        "GEDI_S1_S2 = pd.merge(S1, S2, on=['.geo', 'date', 'rh95'], how='inner')\n",
        "# Merge the previously merged data (GEDI_S1_S2) with the DEM dataframe on common columns\n",
        "GEDI_S1_S2_DEM = pd.merge(GEDI_S1_S2, DEM, on=['.geo', 'date', 'rh95', 'elevation'], how='inner')"
      ],
      "metadata": {
        "id": "uBY5lbnT3yAd"
      },
      "execution_count": 7,
      "outputs": []
    },
    {
      "cell_type": "code",
      "source": [
        "# Save the final merged dataframe as a CSV file to Google Drive\n",
        "GEDI_S1_S2_DEM.to_csv('/content/drive/MyDrive/Data/GEDI_S1_S2_DEM.csv')"
      ],
      "metadata": {
        "id": "xa5qqYG66gLa"
      },
      "execution_count": null,
      "outputs": []
    },
    {
      "cell_type": "code",
      "source": [
        "# Load all the Sentinel-2 Overall Median batch files from the specified folder into a list\n",
        "S2_list = glob.glob('/content/drive/MyDrive/Data/Sentinel-2_Overall_Median_batch_*.csv')\n",
        "# Concatenate all the Sentinel-2 Overall Median CSV files into a single dataframe\n",
        "S2 = pd.concat([pd.read_csv(csv) for csv in S2_list])\n",
        "# Drop the 'system:index' column from the Sentinel-2 dataframe as it's not needed for merging\n",
        "S2 = S2.drop('system:index', axis=1)"
      ],
      "metadata": {
        "id": "uAdTS66D47EA"
      },
      "execution_count": null,
      "outputs": []
    },
    {
      "cell_type": "code",
      "source": [
        "# Load the Sentinel-1 Overall Median data from the specified path\n",
        "S1 = pd.read_csv('/content/drive/MyDrive/Data/Sentinel-1_Overall_Median.csv')\n",
        "# Drop the 'system:index' column from the Sentinel-1 Overall Median dataframe\n",
        "S1 = S1.drop('system:index', axis=1)"
      ],
      "metadata": {
        "id": "DEeMqs4e6NRz"
      },
      "execution_count": null,
      "outputs": []
    },
    {
      "cell_type": "code",
      "source": [
        "# Merge the Sentinel-1 Overall Median and Sentinel-2 Overall Median dataframes on common columns\n",
        "GEDI_S1_S2 = pd.merge(S1, S2, on=['.geo', 'date', 'rh95'], how='inner')\n",
        "# Merge the previously merged data (GEDI_S1_S2) with the DEM dataframe on common columns\n",
        "GEDI_S1_S2_DEM = pd.merge(GEDI_S1_S2, DEM, on=['.geo', 'date', 'rh95', 'elevation'], how='inner')"
      ],
      "metadata": {
        "id": "nHNURe2u6MsX"
      },
      "execution_count": null,
      "outputs": []
    },
    {
      "cell_type": "code",
      "source": [
        "# Save the final merged dataframe for the overall median approach as a CSV file to Google Drive\n",
        "GEDI_S1_S2_DEM.to_csv('/content/drive/MyDrive/Data/GEDI_S1_S2_DEM_Overall_Median.csv')"
      ],
      "metadata": {
        "id": "h2RBLr_j6Toz"
      },
      "execution_count": null,
      "outputs": []
    }
  ]
}